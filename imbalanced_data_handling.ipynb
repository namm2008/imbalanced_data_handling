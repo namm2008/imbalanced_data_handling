{
 "cells": [
  {
   "cell_type": "markdown",
   "metadata": {},
   "source": [
    "## Topic: Credit Card Fraudulent Transaction detection\n",
    "### (Imbalanced Data Handling) "
   ]
  },
  {
   "cell_type": "markdown",
   "metadata": {},
   "source": [
    "### Introduction:\n",
    "\n",
    "Nowadays, the problems related to financial fraud increase day by day around the world. In UK only, it is 190 billion pounds of lost money per annum. A variety of solutions to such kind of issue were implemented by vast number of banks recent years, however the fraudulence still affects a significant part of clients creating a strong erosion of confidence in banks and undermining their credibility. Money fraudulence continues to gain momentum which includes issues of plastic cards theft, breaking online-banking profiles, stealing personal information, account numbers and security codes. Thus, the actions to minimize money theft issues were undertaken but there is still an urgent need of more considerate work on finding better and stronger system to keep financial information private and difficult to hack. The implementation of AI into banking security system had already been started. Therefore, following Teradata’s success in determination of fraud schemes by their learning machines, it is important to review different AI tools for better and more accurate outcome in this regard.\n"
   ]
  },
  {
   "cell_type": "markdown",
   "metadata": {},
   "source": [
    "### Content:\n",
    "\n",
    "#### I. Exploratory Data Analysis (EDA):\n",
    "**1. Correlation Analysis**\n",
    "\n",
    "**2. Gaussian , Skewness and Kurtosis Analysis**\n",
    "\n",
    "**3. Normalisation and Transformation**\n",
    "\n",
    "#### II Imbalance Data Handling:\n",
    "**1. UnderSampling - Random Undersampling**\n",
    "\n",
    "**2. UnderSampling - N-groups Undersampling**\n",
    "\n",
    "**3. UnderSampling - K-Means Undersampling**\n",
    "\n",
    "**4. OverSampling - SMOTE (Synthetic Minority Oversampling Technique)**\n",
    "\n",
    "**5. OverSampling - ADASYN (Adaptive Synthetic Sampling Approach)**\n",
    "\n",
    "#### III. Modeling:\n",
    "**Logistic Regression**\n",
    "\n",
    "---"
   ]
  },
  {
   "cell_type": "code",
   "execution_count": 1,
   "metadata": {},
   "outputs": [],
   "source": [
    "#import the required library\n",
    "import pandas as pd\n",
    "import numpy as np\n",
    "import matplotlib.pyplot as plt\n",
    "%matplotlib inline\n",
    "import seaborn as sns\n",
    "import plotly.express as px"
   ]
  },
  {
   "cell_type": "markdown",
   "metadata": {},
   "source": [
    "The data set can be download at: https://www.kaggle.com/mlg-ulb/creditcardfraud"
   ]
  },
  {
   "cell_type": "code",
   "execution_count": 2,
   "metadata": {},
   "outputs": [],
   "source": [
    "# import the dataset\n",
    "df = pd.read_csv(\"creditcard.csv\" , index_col=False)"
   ]
  },
  {
   "cell_type": "code",
   "execution_count": 3,
   "metadata": {},
   "outputs": [
    {
     "name": "stdout",
     "output_type": "stream",
     "text": [
      " Number of data count:  284807\n"
     ]
    }
   ],
   "source": [
    "print(\" Number of data count: \", df['V1'].count())"
   ]
  },
  {
   "cell_type": "code",
   "execution_count": 4,
   "metadata": {},
   "outputs": [
    {
     "data": {
      "text/plain": [
       "(284807, 31)"
      ]
     },
     "execution_count": 4,
     "metadata": {},
     "output_type": "execute_result"
    }
   ],
   "source": [
    "df.shape"
   ]
  },
  {
   "cell_type": "markdown",
   "metadata": {},
   "source": [
    "**Before we work on the dataset, we need to separate the training set and test set of data in order to avoid the leakage of the test data which may affect the accuracy of the models being trained.**"
   ]
  },
  {
   "cell_type": "code",
   "execution_count": 5,
   "metadata": {},
   "outputs": [],
   "source": [
    "# drawing 25% of the whole dataset for testing\n",
    "df_test = df.sample(frac=0.25)\n",
    "df_train = df.drop(df_test.index)"
   ]
  },
  {
   "cell_type": "code",
   "execution_count": 6,
   "metadata": {},
   "outputs": [
    {
     "name": "stdout",
     "output_type": "stream",
     "text": [
      "Training size:  213605   Test size:  71202\n"
     ]
    }
   ],
   "source": [
    "print('Training size: ', df_train.shape[0], '  Test size: ',df_test.shape[0])"
   ]
  },
  {
   "cell_type": "code",
   "execution_count": 7,
   "metadata": {},
   "outputs": [
    {
     "data": {
      "text/html": [
       "<div>\n",
       "<style scoped>\n",
       "    .dataframe tbody tr th:only-of-type {\n",
       "        vertical-align: middle;\n",
       "    }\n",
       "\n",
       "    .dataframe tbody tr th {\n",
       "        vertical-align: top;\n",
       "    }\n",
       "\n",
       "    .dataframe thead th {\n",
       "        text-align: right;\n",
       "    }\n",
       "</style>\n",
       "<table border=\"1\" class=\"dataframe\">\n",
       "  <thead>\n",
       "    <tr style=\"text-align: right;\">\n",
       "      <th></th>\n",
       "      <th>Time</th>\n",
       "      <th>V1</th>\n",
       "      <th>V2</th>\n",
       "      <th>V3</th>\n",
       "      <th>V4</th>\n",
       "      <th>V5</th>\n",
       "      <th>V6</th>\n",
       "      <th>V7</th>\n",
       "      <th>V8</th>\n",
       "      <th>V9</th>\n",
       "      <th>...</th>\n",
       "      <th>V21</th>\n",
       "      <th>V22</th>\n",
       "      <th>V23</th>\n",
       "      <th>V24</th>\n",
       "      <th>V25</th>\n",
       "      <th>V26</th>\n",
       "      <th>V27</th>\n",
       "      <th>V28</th>\n",
       "      <th>Amount</th>\n",
       "      <th>Class</th>\n",
       "    </tr>\n",
       "  </thead>\n",
       "  <tbody>\n",
       "    <tr>\n",
       "      <th>3</th>\n",
       "      <td>1.0</td>\n",
       "      <td>-0.966272</td>\n",
       "      <td>-0.185226</td>\n",
       "      <td>1.792993</td>\n",
       "      <td>-0.863291</td>\n",
       "      <td>-0.010309</td>\n",
       "      <td>1.247203</td>\n",
       "      <td>0.237609</td>\n",
       "      <td>0.377436</td>\n",
       "      <td>-1.387024</td>\n",
       "      <td>...</td>\n",
       "      <td>-0.108300</td>\n",
       "      <td>0.005274</td>\n",
       "      <td>-0.190321</td>\n",
       "      <td>-1.175575</td>\n",
       "      <td>0.647376</td>\n",
       "      <td>-0.221929</td>\n",
       "      <td>0.062723</td>\n",
       "      <td>0.061458</td>\n",
       "      <td>123.50</td>\n",
       "      <td>0</td>\n",
       "    </tr>\n",
       "    <tr>\n",
       "      <th>4</th>\n",
       "      <td>2.0</td>\n",
       "      <td>-1.158233</td>\n",
       "      <td>0.877737</td>\n",
       "      <td>1.548718</td>\n",
       "      <td>0.403034</td>\n",
       "      <td>-0.407193</td>\n",
       "      <td>0.095921</td>\n",
       "      <td>0.592941</td>\n",
       "      <td>-0.270533</td>\n",
       "      <td>0.817739</td>\n",
       "      <td>...</td>\n",
       "      <td>-0.009431</td>\n",
       "      <td>0.798278</td>\n",
       "      <td>-0.137458</td>\n",
       "      <td>0.141267</td>\n",
       "      <td>-0.206010</td>\n",
       "      <td>0.502292</td>\n",
       "      <td>0.219422</td>\n",
       "      <td>0.215153</td>\n",
       "      <td>69.99</td>\n",
       "      <td>0</td>\n",
       "    </tr>\n",
       "    <tr>\n",
       "      <th>6</th>\n",
       "      <td>4.0</td>\n",
       "      <td>1.229658</td>\n",
       "      <td>0.141004</td>\n",
       "      <td>0.045371</td>\n",
       "      <td>1.202613</td>\n",
       "      <td>0.191881</td>\n",
       "      <td>0.272708</td>\n",
       "      <td>-0.005159</td>\n",
       "      <td>0.081213</td>\n",
       "      <td>0.464960</td>\n",
       "      <td>...</td>\n",
       "      <td>-0.167716</td>\n",
       "      <td>-0.270710</td>\n",
       "      <td>-0.154104</td>\n",
       "      <td>-0.780055</td>\n",
       "      <td>0.750137</td>\n",
       "      <td>-0.257237</td>\n",
       "      <td>0.034507</td>\n",
       "      <td>0.005168</td>\n",
       "      <td>4.99</td>\n",
       "      <td>0</td>\n",
       "    </tr>\n",
       "    <tr>\n",
       "      <th>7</th>\n",
       "      <td>7.0</td>\n",
       "      <td>-0.644269</td>\n",
       "      <td>1.417964</td>\n",
       "      <td>1.074380</td>\n",
       "      <td>-0.492199</td>\n",
       "      <td>0.948934</td>\n",
       "      <td>0.428118</td>\n",
       "      <td>1.120631</td>\n",
       "      <td>-3.807864</td>\n",
       "      <td>0.615375</td>\n",
       "      <td>...</td>\n",
       "      <td>1.943465</td>\n",
       "      <td>-1.015455</td>\n",
       "      <td>0.057504</td>\n",
       "      <td>-0.649709</td>\n",
       "      <td>-0.415267</td>\n",
       "      <td>-0.051634</td>\n",
       "      <td>-1.206921</td>\n",
       "      <td>-1.085339</td>\n",
       "      <td>40.80</td>\n",
       "      <td>0</td>\n",
       "    </tr>\n",
       "    <tr>\n",
       "      <th>8</th>\n",
       "      <td>7.0</td>\n",
       "      <td>-0.894286</td>\n",
       "      <td>0.286157</td>\n",
       "      <td>-0.113192</td>\n",
       "      <td>-0.271526</td>\n",
       "      <td>2.669599</td>\n",
       "      <td>3.721818</td>\n",
       "      <td>0.370145</td>\n",
       "      <td>0.851084</td>\n",
       "      <td>-0.392048</td>\n",
       "      <td>...</td>\n",
       "      <td>-0.073425</td>\n",
       "      <td>-0.268092</td>\n",
       "      <td>-0.204233</td>\n",
       "      <td>1.011592</td>\n",
       "      <td>0.373205</td>\n",
       "      <td>-0.384157</td>\n",
       "      <td>0.011747</td>\n",
       "      <td>0.142404</td>\n",
       "      <td>93.20</td>\n",
       "      <td>0</td>\n",
       "    </tr>\n",
       "  </tbody>\n",
       "</table>\n",
       "<p>5 rows × 31 columns</p>\n",
       "</div>"
      ],
      "text/plain": [
       "   Time        V1        V2        V3        V4        V5        V6        V7  \\\n",
       "3   1.0 -0.966272 -0.185226  1.792993 -0.863291 -0.010309  1.247203  0.237609   \n",
       "4   2.0 -1.158233  0.877737  1.548718  0.403034 -0.407193  0.095921  0.592941   \n",
       "6   4.0  1.229658  0.141004  0.045371  1.202613  0.191881  0.272708 -0.005159   \n",
       "7   7.0 -0.644269  1.417964  1.074380 -0.492199  0.948934  0.428118  1.120631   \n",
       "8   7.0 -0.894286  0.286157 -0.113192 -0.271526  2.669599  3.721818  0.370145   \n",
       "\n",
       "         V8        V9  ...       V21       V22       V23       V24       V25  \\\n",
       "3  0.377436 -1.387024  ... -0.108300  0.005274 -0.190321 -1.175575  0.647376   \n",
       "4 -0.270533  0.817739  ... -0.009431  0.798278 -0.137458  0.141267 -0.206010   \n",
       "6  0.081213  0.464960  ... -0.167716 -0.270710 -0.154104 -0.780055  0.750137   \n",
       "7 -3.807864  0.615375  ...  1.943465 -1.015455  0.057504 -0.649709 -0.415267   \n",
       "8  0.851084 -0.392048  ... -0.073425 -0.268092 -0.204233  1.011592  0.373205   \n",
       "\n",
       "        V26       V27       V28  Amount  Class  \n",
       "3 -0.221929  0.062723  0.061458  123.50      0  \n",
       "4  0.502292  0.219422  0.215153   69.99      0  \n",
       "6 -0.257237  0.034507  0.005168    4.99      0  \n",
       "7 -0.051634 -1.206921 -1.085339   40.80      0  \n",
       "8 -0.384157  0.011747  0.142404   93.20      0  \n",
       "\n",
       "[5 rows x 31 columns]"
      ]
     },
     "execution_count": 7,
     "metadata": {},
     "output_type": "execute_result"
    }
   ],
   "source": [
    "#look at the first 5 rows of the training set\n",
    "df_train.head()"
   ]
  },
  {
   "cell_type": "code",
   "execution_count": 8,
   "metadata": {},
   "outputs": [
    {
     "data": {
      "text/html": [
       "<div>\n",
       "<style scoped>\n",
       "    .dataframe tbody tr th:only-of-type {\n",
       "        vertical-align: middle;\n",
       "    }\n",
       "\n",
       "    .dataframe tbody tr th {\n",
       "        vertical-align: top;\n",
       "    }\n",
       "\n",
       "    .dataframe thead th {\n",
       "        text-align: right;\n",
       "    }\n",
       "</style>\n",
       "<table border=\"1\" class=\"dataframe\">\n",
       "  <thead>\n",
       "    <tr style=\"text-align: right;\">\n",
       "      <th></th>\n",
       "      <th>Time</th>\n",
       "      <th>V1</th>\n",
       "      <th>V2</th>\n",
       "      <th>V3</th>\n",
       "      <th>V4</th>\n",
       "      <th>V5</th>\n",
       "      <th>V6</th>\n",
       "      <th>V7</th>\n",
       "      <th>V8</th>\n",
       "      <th>V9</th>\n",
       "      <th>...</th>\n",
       "      <th>V21</th>\n",
       "      <th>V22</th>\n",
       "      <th>V23</th>\n",
       "      <th>V24</th>\n",
       "      <th>V25</th>\n",
       "      <th>V26</th>\n",
       "      <th>V27</th>\n",
       "      <th>V28</th>\n",
       "      <th>Amount</th>\n",
       "      <th>Class</th>\n",
       "    </tr>\n",
       "  </thead>\n",
       "  <tbody>\n",
       "    <tr>\n",
       "      <th>284801</th>\n",
       "      <td>172785.0</td>\n",
       "      <td>0.120316</td>\n",
       "      <td>0.931005</td>\n",
       "      <td>-0.546012</td>\n",
       "      <td>-0.745097</td>\n",
       "      <td>1.130314</td>\n",
       "      <td>-0.235973</td>\n",
       "      <td>0.812722</td>\n",
       "      <td>0.115093</td>\n",
       "      <td>-0.204064</td>\n",
       "      <td>...</td>\n",
       "      <td>-0.314205</td>\n",
       "      <td>-0.808520</td>\n",
       "      <td>0.050343</td>\n",
       "      <td>0.102800</td>\n",
       "      <td>-0.435870</td>\n",
       "      <td>0.124079</td>\n",
       "      <td>0.217940</td>\n",
       "      <td>0.068803</td>\n",
       "      <td>2.69</td>\n",
       "      <td>0</td>\n",
       "    </tr>\n",
       "    <tr>\n",
       "      <th>284802</th>\n",
       "      <td>172786.0</td>\n",
       "      <td>-11.881118</td>\n",
       "      <td>10.071785</td>\n",
       "      <td>-9.834783</td>\n",
       "      <td>-2.066656</td>\n",
       "      <td>-5.364473</td>\n",
       "      <td>-2.606837</td>\n",
       "      <td>-4.918215</td>\n",
       "      <td>7.305334</td>\n",
       "      <td>1.914428</td>\n",
       "      <td>...</td>\n",
       "      <td>0.213454</td>\n",
       "      <td>0.111864</td>\n",
       "      <td>1.014480</td>\n",
       "      <td>-0.509348</td>\n",
       "      <td>1.436807</td>\n",
       "      <td>0.250034</td>\n",
       "      <td>0.943651</td>\n",
       "      <td>0.823731</td>\n",
       "      <td>0.77</td>\n",
       "      <td>0</td>\n",
       "    </tr>\n",
       "    <tr>\n",
       "      <th>284803</th>\n",
       "      <td>172787.0</td>\n",
       "      <td>-0.732789</td>\n",
       "      <td>-0.055080</td>\n",
       "      <td>2.035030</td>\n",
       "      <td>-0.738589</td>\n",
       "      <td>0.868229</td>\n",
       "      <td>1.058415</td>\n",
       "      <td>0.024330</td>\n",
       "      <td>0.294869</td>\n",
       "      <td>0.584800</td>\n",
       "      <td>...</td>\n",
       "      <td>0.214205</td>\n",
       "      <td>0.924384</td>\n",
       "      <td>0.012463</td>\n",
       "      <td>-1.016226</td>\n",
       "      <td>-0.606624</td>\n",
       "      <td>-0.395255</td>\n",
       "      <td>0.068472</td>\n",
       "      <td>-0.053527</td>\n",
       "      <td>24.79</td>\n",
       "      <td>0</td>\n",
       "    </tr>\n",
       "    <tr>\n",
       "      <th>284804</th>\n",
       "      <td>172788.0</td>\n",
       "      <td>1.919565</td>\n",
       "      <td>-0.301254</td>\n",
       "      <td>-3.249640</td>\n",
       "      <td>-0.557828</td>\n",
       "      <td>2.630515</td>\n",
       "      <td>3.031260</td>\n",
       "      <td>-0.296827</td>\n",
       "      <td>0.708417</td>\n",
       "      <td>0.432454</td>\n",
       "      <td>...</td>\n",
       "      <td>0.232045</td>\n",
       "      <td>0.578229</td>\n",
       "      <td>-0.037501</td>\n",
       "      <td>0.640134</td>\n",
       "      <td>0.265745</td>\n",
       "      <td>-0.087371</td>\n",
       "      <td>0.004455</td>\n",
       "      <td>-0.026561</td>\n",
       "      <td>67.88</td>\n",
       "      <td>0</td>\n",
       "    </tr>\n",
       "    <tr>\n",
       "      <th>284806</th>\n",
       "      <td>172792.0</td>\n",
       "      <td>-0.533413</td>\n",
       "      <td>-0.189733</td>\n",
       "      <td>0.703337</td>\n",
       "      <td>-0.506271</td>\n",
       "      <td>-0.012546</td>\n",
       "      <td>-0.649617</td>\n",
       "      <td>1.577006</td>\n",
       "      <td>-0.414650</td>\n",
       "      <td>0.486180</td>\n",
       "      <td>...</td>\n",
       "      <td>0.261057</td>\n",
       "      <td>0.643078</td>\n",
       "      <td>0.376777</td>\n",
       "      <td>0.008797</td>\n",
       "      <td>-0.473649</td>\n",
       "      <td>-0.818267</td>\n",
       "      <td>-0.002415</td>\n",
       "      <td>0.013649</td>\n",
       "      <td>217.00</td>\n",
       "      <td>0</td>\n",
       "    </tr>\n",
       "  </tbody>\n",
       "</table>\n",
       "<p>5 rows × 31 columns</p>\n",
       "</div>"
      ],
      "text/plain": [
       "            Time         V1         V2        V3        V4        V5  \\\n",
       "284801  172785.0   0.120316   0.931005 -0.546012 -0.745097  1.130314   \n",
       "284802  172786.0 -11.881118  10.071785 -9.834783 -2.066656 -5.364473   \n",
       "284803  172787.0  -0.732789  -0.055080  2.035030 -0.738589  0.868229   \n",
       "284804  172788.0   1.919565  -0.301254 -3.249640 -0.557828  2.630515   \n",
       "284806  172792.0  -0.533413  -0.189733  0.703337 -0.506271 -0.012546   \n",
       "\n",
       "              V6        V7        V8        V9  ...       V21       V22  \\\n",
       "284801 -0.235973  0.812722  0.115093 -0.204064  ... -0.314205 -0.808520   \n",
       "284802 -2.606837 -4.918215  7.305334  1.914428  ...  0.213454  0.111864   \n",
       "284803  1.058415  0.024330  0.294869  0.584800  ...  0.214205  0.924384   \n",
       "284804  3.031260 -0.296827  0.708417  0.432454  ...  0.232045  0.578229   \n",
       "284806 -0.649617  1.577006 -0.414650  0.486180  ...  0.261057  0.643078   \n",
       "\n",
       "             V23       V24       V25       V26       V27       V28  Amount  \\\n",
       "284801  0.050343  0.102800 -0.435870  0.124079  0.217940  0.068803    2.69   \n",
       "284802  1.014480 -0.509348  1.436807  0.250034  0.943651  0.823731    0.77   \n",
       "284803  0.012463 -1.016226 -0.606624 -0.395255  0.068472 -0.053527   24.79   \n",
       "284804 -0.037501  0.640134  0.265745 -0.087371  0.004455 -0.026561   67.88   \n",
       "284806  0.376777  0.008797 -0.473649 -0.818267 -0.002415  0.013649  217.00   \n",
       "\n",
       "        Class  \n",
       "284801      0  \n",
       "284802      0  \n",
       "284803      0  \n",
       "284804      0  \n",
       "284806      0  \n",
       "\n",
       "[5 rows x 31 columns]"
      ]
     },
     "execution_count": 8,
     "metadata": {},
     "output_type": "execute_result"
    }
   ],
   "source": [
    "#look at the last 5 rows of the training set\n",
    "df_train.tail()"
   ]
  },
  {
   "cell_type": "code",
   "execution_count": 9,
   "metadata": {},
   "outputs": [
    {
     "name": "stdout",
     "output_type": "stream",
     "text": [
      "Column Names: \n"
     ]
    },
    {
     "data": {
      "text/plain": [
       "Index(['Time', 'V1', 'V2', 'V3', 'V4', 'V5', 'V6', 'V7', 'V8', 'V9', 'V10',\n",
       "       'V11', 'V12', 'V13', 'V14', 'V15', 'V16', 'V17', 'V18', 'V19', 'V20',\n",
       "       'V21', 'V22', 'V23', 'V24', 'V25', 'V26', 'V27', 'V28', 'Amount',\n",
       "       'Class'],\n",
       "      dtype='object')"
      ]
     },
     "execution_count": 9,
     "metadata": {},
     "output_type": "execute_result"
    }
   ],
   "source": [
    "# the column names\n",
    "print(\"Column Names: \")\n",
    "df_train.columns"
   ]
  },
  {
   "cell_type": "markdown",
   "metadata": {},
   "source": [
    "#### The index is the time starting from 0 to 172792. \n",
    "#### \"V1\" to \"V28\" features\n",
    "#### \"Amount\" is the spending amount for the transaction\n",
    "#### \"Class\" is the label: 0 for Non-fraudulent and 1 for fraudulent transactions\n",
    "\n",
    "---"
   ]
  },
  {
   "cell_type": "markdown",
   "metadata": {},
   "source": [
    "## I. Exploratory Data Analysis (EDA)\n",
    "\n",
    "### 1. Correlation Analysis\n",
    "\n",
    "**We first look at the statistics and correlation of the features**"
   ]
  },
  {
   "cell_type": "code",
   "execution_count": 10,
   "metadata": {},
   "outputs": [
    {
     "data": {
      "text/html": [
       "<div>\n",
       "<style scoped>\n",
       "    .dataframe tbody tr th:only-of-type {\n",
       "        vertical-align: middle;\n",
       "    }\n",
       "\n",
       "    .dataframe tbody tr th {\n",
       "        vertical-align: top;\n",
       "    }\n",
       "\n",
       "    .dataframe thead th {\n",
       "        text-align: right;\n",
       "    }\n",
       "</style>\n",
       "<table border=\"1\" class=\"dataframe\">\n",
       "  <thead>\n",
       "    <tr style=\"text-align: right;\">\n",
       "      <th></th>\n",
       "      <th>Time</th>\n",
       "      <th>V1</th>\n",
       "      <th>V2</th>\n",
       "      <th>V3</th>\n",
       "      <th>V4</th>\n",
       "      <th>V5</th>\n",
       "      <th>V6</th>\n",
       "      <th>V7</th>\n",
       "      <th>V8</th>\n",
       "      <th>V9</th>\n",
       "      <th>...</th>\n",
       "      <th>V21</th>\n",
       "      <th>V22</th>\n",
       "      <th>V23</th>\n",
       "      <th>V24</th>\n",
       "      <th>V25</th>\n",
       "      <th>V26</th>\n",
       "      <th>V27</th>\n",
       "      <th>V28</th>\n",
       "      <th>Amount</th>\n",
       "      <th>Class</th>\n",
       "    </tr>\n",
       "  </thead>\n",
       "  <tbody>\n",
       "    <tr>\n",
       "      <th>count</th>\n",
       "      <td>213605.000000</td>\n",
       "      <td>213605.000000</td>\n",
       "      <td>213605.000000</td>\n",
       "      <td>213605.000000</td>\n",
       "      <td>213605.000000</td>\n",
       "      <td>213605.000000</td>\n",
       "      <td>213605.000000</td>\n",
       "      <td>213605.000000</td>\n",
       "      <td>213605.000000</td>\n",
       "      <td>213605.000000</td>\n",
       "      <td>...</td>\n",
       "      <td>213605.000000</td>\n",
       "      <td>213605.000000</td>\n",
       "      <td>213605.000000</td>\n",
       "      <td>213605.000000</td>\n",
       "      <td>213605.000000</td>\n",
       "      <td>213605.000000</td>\n",
       "      <td>213605.000000</td>\n",
       "      <td>213605.000000</td>\n",
       "      <td>213605.000000</td>\n",
       "      <td>213605.000000</td>\n",
       "    </tr>\n",
       "    <tr>\n",
       "      <th>mean</th>\n",
       "      <td>94822.098509</td>\n",
       "      <td>0.002102</td>\n",
       "      <td>0.000944</td>\n",
       "      <td>0.002514</td>\n",
       "      <td>-0.000976</td>\n",
       "      <td>0.001366</td>\n",
       "      <td>0.000215</td>\n",
       "      <td>0.000326</td>\n",
       "      <td>-0.001449</td>\n",
       "      <td>-0.000644</td>\n",
       "      <td>...</td>\n",
       "      <td>0.001115</td>\n",
       "      <td>-0.000610</td>\n",
       "      <td>0.000855</td>\n",
       "      <td>-0.001097</td>\n",
       "      <td>0.000918</td>\n",
       "      <td>-0.000738</td>\n",
       "      <td>0.000126</td>\n",
       "      <td>0.000022</td>\n",
       "      <td>88.135695</td>\n",
       "      <td>0.001746</td>\n",
       "    </tr>\n",
       "    <tr>\n",
       "      <th>std</th>\n",
       "      <td>47476.655737</td>\n",
       "      <td>1.947307</td>\n",
       "      <td>1.646301</td>\n",
       "      <td>1.505419</td>\n",
       "      <td>1.415629</td>\n",
       "      <td>1.379576</td>\n",
       "      <td>1.334202</td>\n",
       "      <td>1.239883</td>\n",
       "      <td>1.201770</td>\n",
       "      <td>1.099665</td>\n",
       "      <td>...</td>\n",
       "      <td>0.746547</td>\n",
       "      <td>0.727456</td>\n",
       "      <td>0.635087</td>\n",
       "      <td>0.606549</td>\n",
       "      <td>0.521793</td>\n",
       "      <td>0.481770</td>\n",
       "      <td>0.405612</td>\n",
       "      <td>0.329038</td>\n",
       "      <td>252.497087</td>\n",
       "      <td>0.041751</td>\n",
       "    </tr>\n",
       "    <tr>\n",
       "      <th>min</th>\n",
       "      <td>1.000000</td>\n",
       "      <td>-56.407510</td>\n",
       "      <td>-72.715728</td>\n",
       "      <td>-48.325589</td>\n",
       "      <td>-5.683171</td>\n",
       "      <td>-113.743307</td>\n",
       "      <td>-26.160506</td>\n",
       "      <td>-43.557242</td>\n",
       "      <td>-73.216718</td>\n",
       "      <td>-13.320155</td>\n",
       "      <td>...</td>\n",
       "      <td>-34.830382</td>\n",
       "      <td>-10.933144</td>\n",
       "      <td>-44.807735</td>\n",
       "      <td>-2.824849</td>\n",
       "      <td>-10.295397</td>\n",
       "      <td>-2.604551</td>\n",
       "      <td>-22.565679</td>\n",
       "      <td>-15.430084</td>\n",
       "      <td>0.000000</td>\n",
       "      <td>0.000000</td>\n",
       "    </tr>\n",
       "    <tr>\n",
       "      <th>25%</th>\n",
       "      <td>54200.000000</td>\n",
       "      <td>-0.918278</td>\n",
       "      <td>-0.598403</td>\n",
       "      <td>-0.887008</td>\n",
       "      <td>-0.849038</td>\n",
       "      <td>-0.688973</td>\n",
       "      <td>-0.767083</td>\n",
       "      <td>-0.553805</td>\n",
       "      <td>-0.207882</td>\n",
       "      <td>-0.643260</td>\n",
       "      <td>...</td>\n",
       "      <td>-0.228438</td>\n",
       "      <td>-0.543638</td>\n",
       "      <td>-0.161461</td>\n",
       "      <td>-0.356751</td>\n",
       "      <td>-0.316256</td>\n",
       "      <td>-0.327494</td>\n",
       "      <td>-0.070759</td>\n",
       "      <td>-0.052976</td>\n",
       "      <td>5.600000</td>\n",
       "      <td>0.000000</td>\n",
       "    </tr>\n",
       "    <tr>\n",
       "      <th>50%</th>\n",
       "      <td>84774.000000</td>\n",
       "      <td>0.018948</td>\n",
       "      <td>0.064925</td>\n",
       "      <td>0.178817</td>\n",
       "      <td>-0.019838</td>\n",
       "      <td>-0.053215</td>\n",
       "      <td>-0.274751</td>\n",
       "      <td>0.039856</td>\n",
       "      <td>0.022634</td>\n",
       "      <td>-0.052607</td>\n",
       "      <td>...</td>\n",
       "      <td>-0.029611</td>\n",
       "      <td>0.006675</td>\n",
       "      <td>-0.011314</td>\n",
       "      <td>0.040685</td>\n",
       "      <td>0.017246</td>\n",
       "      <td>-0.052903</td>\n",
       "      <td>0.001554</td>\n",
       "      <td>0.011232</td>\n",
       "      <td>22.000000</td>\n",
       "      <td>0.000000</td>\n",
       "    </tr>\n",
       "    <tr>\n",
       "      <th>75%</th>\n",
       "      <td>139311.000000</td>\n",
       "      <td>1.315771</td>\n",
       "      <td>0.803597</td>\n",
       "      <td>1.027288</td>\n",
       "      <td>0.743097</td>\n",
       "      <td>0.611692</td>\n",
       "      <td>0.398200</td>\n",
       "      <td>0.568578</td>\n",
       "      <td>0.327221</td>\n",
       "      <td>0.597199</td>\n",
       "      <td>...</td>\n",
       "      <td>0.186428</td>\n",
       "      <td>0.528404</td>\n",
       "      <td>0.147474</td>\n",
       "      <td>0.439515</td>\n",
       "      <td>0.350871</td>\n",
       "      <td>0.239761</td>\n",
       "      <td>0.091684</td>\n",
       "      <td>0.078349</td>\n",
       "      <td>77.290000</td>\n",
       "      <td>0.000000</td>\n",
       "    </tr>\n",
       "    <tr>\n",
       "      <th>max</th>\n",
       "      <td>172792.000000</td>\n",
       "      <td>2.454930</td>\n",
       "      <td>22.057729</td>\n",
       "      <td>9.382558</td>\n",
       "      <td>16.875344</td>\n",
       "      <td>34.801666</td>\n",
       "      <td>73.301626</td>\n",
       "      <td>120.589494</td>\n",
       "      <td>20.007208</td>\n",
       "      <td>15.594995</td>\n",
       "      <td>...</td>\n",
       "      <td>27.202839</td>\n",
       "      <td>10.503090</td>\n",
       "      <td>22.528412</td>\n",
       "      <td>4.584549</td>\n",
       "      <td>7.519589</td>\n",
       "      <td>3.517346</td>\n",
       "      <td>31.612198</td>\n",
       "      <td>33.847808</td>\n",
       "      <td>25691.160000</td>\n",
       "      <td>1.000000</td>\n",
       "    </tr>\n",
       "  </tbody>\n",
       "</table>\n",
       "<p>8 rows × 31 columns</p>\n",
       "</div>"
      ],
      "text/plain": [
       "                Time             V1             V2             V3  \\\n",
       "count  213605.000000  213605.000000  213605.000000  213605.000000   \n",
       "mean    94822.098509       0.002102       0.000944       0.002514   \n",
       "std     47476.655737       1.947307       1.646301       1.505419   \n",
       "min         1.000000     -56.407510     -72.715728     -48.325589   \n",
       "25%     54200.000000      -0.918278      -0.598403      -0.887008   \n",
       "50%     84774.000000       0.018948       0.064925       0.178817   \n",
       "75%    139311.000000       1.315771       0.803597       1.027288   \n",
       "max    172792.000000       2.454930      22.057729       9.382558   \n",
       "\n",
       "                  V4             V5             V6             V7  \\\n",
       "count  213605.000000  213605.000000  213605.000000  213605.000000   \n",
       "mean       -0.000976       0.001366       0.000215       0.000326   \n",
       "std         1.415629       1.379576       1.334202       1.239883   \n",
       "min        -5.683171    -113.743307     -26.160506     -43.557242   \n",
       "25%        -0.849038      -0.688973      -0.767083      -0.553805   \n",
       "50%        -0.019838      -0.053215      -0.274751       0.039856   \n",
       "75%         0.743097       0.611692       0.398200       0.568578   \n",
       "max        16.875344      34.801666      73.301626     120.589494   \n",
       "\n",
       "                  V8             V9  ...            V21            V22  \\\n",
       "count  213605.000000  213605.000000  ...  213605.000000  213605.000000   \n",
       "mean       -0.001449      -0.000644  ...       0.001115      -0.000610   \n",
       "std         1.201770       1.099665  ...       0.746547       0.727456   \n",
       "min       -73.216718     -13.320155  ...     -34.830382     -10.933144   \n",
       "25%        -0.207882      -0.643260  ...      -0.228438      -0.543638   \n",
       "50%         0.022634      -0.052607  ...      -0.029611       0.006675   \n",
       "75%         0.327221       0.597199  ...       0.186428       0.528404   \n",
       "max        20.007208      15.594995  ...      27.202839      10.503090   \n",
       "\n",
       "                 V23            V24            V25            V26  \\\n",
       "count  213605.000000  213605.000000  213605.000000  213605.000000   \n",
       "mean        0.000855      -0.001097       0.000918      -0.000738   \n",
       "std         0.635087       0.606549       0.521793       0.481770   \n",
       "min       -44.807735      -2.824849     -10.295397      -2.604551   \n",
       "25%        -0.161461      -0.356751      -0.316256      -0.327494   \n",
       "50%        -0.011314       0.040685       0.017246      -0.052903   \n",
       "75%         0.147474       0.439515       0.350871       0.239761   \n",
       "max        22.528412       4.584549       7.519589       3.517346   \n",
       "\n",
       "                 V27            V28         Amount          Class  \n",
       "count  213605.000000  213605.000000  213605.000000  213605.000000  \n",
       "mean        0.000126       0.000022      88.135695       0.001746  \n",
       "std         0.405612       0.329038     252.497087       0.041751  \n",
       "min       -22.565679     -15.430084       0.000000       0.000000  \n",
       "25%        -0.070759      -0.052976       5.600000       0.000000  \n",
       "50%         0.001554       0.011232      22.000000       0.000000  \n",
       "75%         0.091684       0.078349      77.290000       0.000000  \n",
       "max        31.612198      33.847808   25691.160000       1.000000  \n",
       "\n",
       "[8 rows x 31 columns]"
      ]
     },
     "execution_count": 10,
     "metadata": {},
     "output_type": "execute_result"
    }
   ],
   "source": [
    "# Statistics of all the feathures\n",
    "df_train.describe()"
   ]
  },
  {
   "cell_type": "markdown",
   "metadata": {},
   "source": [
    "**All the standard deviation of V1 to V28 are very small. Although the range of the some features are large, some of the outliers data point may provide good indications for classifying the targets**"
   ]
  },
  {
   "cell_type": "markdown",
   "metadata": {},
   "source": [
    "#### For easy reading, we use a heat map to the visualize the correlation."
   ]
  },
  {
   "cell_type": "code",
   "execution_count": 14,
   "metadata": {},
   "outputs": [
    {
     "data": {
      "image/png": "[encoded data removed]",
      "text/plain": [
       "<Figure size 1800x1296 with 2 Axes>"
      ]
     },
     "metadata": {
      "needs_background": "light"
     },
     "output_type": "display_data"
    }
   ],
   "source": [
    "# Heatmap using Seaborn\n",
    "plt.figure(figsize=(25,18))\n",
    "sns.heatmap(df_corr, annot=None, cmap='Spectral')\n",
    "plt.show()"
   ]
  },
  {
   "cell_type": "markdown",
   "metadata": {},
   "source": [
    "**In this heatmap, we can see that most of the features are uncorrelated. This may due to the fact that the data were being processed with PCA.**"
   ]
  },
  {
   "cell_type": "markdown",
   "metadata": {},
   "source": [
    "**For those features that correlating to \"Amount\" may be \"income\" or \"worth\" relating features. We can work on those features in the data modeling.**\n",
    "\n",
    "**Next we look into the target group and the features relationships.**"
   ]
  },
  {
   "cell_type": "markdown",
   "metadata": {},
   "source": [
    "**Now we separate the fraud and normal data, see if the correlation changed.**"
   ]
  },
  {
   "cell_type": "code",
   "execution_count": 17,
   "metadata": {},
   "outputs": [],
   "source": [
    "#separate the fraud and normal data\n",
    "df_train_fraud = df_train[df_train.Class == 1]\n",
    "df_train_normal = df_train[df_train.Class == 0]"
   ]
  },
  {
   "cell_type": "code",
   "execution_count": 18,
   "metadata": {},
   "outputs": [
    {
     "data": {
      "image/png": "[encoded data removed]",
      "text/plain": [
       "<Figure size 1800x1296 with 2 Axes>"
      ]
     },
     "metadata": {
      "needs_background": "light"
     },
     "output_type": "display_data"
    }
   ],
   "source": [
    "# Heatmap using Seaborn - Fraud Data only\n",
    "plt.figure(figsize=(25,18))\n",
    "sns.heatmap(df_train_fraud.corr(), cmap='Spectral')\n",
    "plt.show()"
   ]
  },
  {
   "cell_type": "markdown",
   "metadata": {},
   "source": [
    "**There is an interesting pattern between V1 to V19. V12,V16,V17 and V18 are having high correlation. Other pair like V1 to V3, V5, V7 have high correlation but V2 to V3, V5, V7 have hign negative correlation.**"
   ]
  },
  {
   "cell_type": "markdown",
   "metadata": {},
   "source": [
    "---\n",
    "\n",
    "### 2. Gaussian / Skewness / Kurtosis Test\n",
    "**First we need to check that if all the features are in Gaussian (Normal) distribution.**"
   ]
  },
  {
   "cell_type": "code",
   "execution_count": null,
   "metadata": {},
   "outputs": [],
   "source": [
    "# Normality test for the features:\n",
    "from scipy.stats import normaltest\n",
    "alpha = 0.05\n",
    "for i in df_train.columns:\n",
    "    stat, p = normaltest(df_train[i])\n",
    "    print( i, 'Statistics=%.3f, p=%.3f' % (stat, p))\n",
    "# interpret\n",
    "    if p > alpha:\n",
    "        print('Sample looks Gaussian (fail to reject H0)')\n",
    "    else:\n",
    "        print('Sample does not look Gaussian (reject H0)')"
   ]
  },
  {
   "cell_type": "markdown",
   "metadata": {},
   "source": [
    "**By the above test, the features are not in normal distribution. Next, we are going to look at the Skewness and Kurtosis of the features.**"
   ]
  },
  {
   "cell_type": "code",
   "execution_count": null,
   "metadata": {},
   "outputs": [],
   "source": [
    "# Skewness and Kurtosis of the features(Full Data)\n",
    "from scipy.stats import kurtosis\n",
    "from scipy.stats import skew\n",
    "\n",
    "ske_kur = pd.DataFrame(index = df.columns, columns = [\"Skewness\", \"Kurtosis\"])\n",
    "for k in df.columns:\n",
    "    ske_kur[\"Skewness\"][k] = skew(df[k])\n",
    "    ske_kur[\"Kurtosis\"][k] = kurtosis(df[k])\n",
    "    print(k, ': Skewness: ' , skew(df[k]), '  Kurtosis: ', kurtosis(df[k]))"
   ]
  },
  {
   "cell_type": "code",
   "execution_count": null,
   "metadata": {},
   "outputs": [],
   "source": [
    "# Skewness and Kurtosis of the features (Fraud Data)\n",
    "from scipy.stats import kurtosis\n",
    "from scipy.stats import skew\n",
    "\n",
    "ske_kur_fraud = pd.DataFrame(index = df_train_fraud.columns, columns = [\"Skewness\", \"Kurtosis\"])\n",
    "for k in df_train_fraud.columns:\n",
    "    ske_kur_fraud[\"Skewness\"][k] = skew(df_train_fraud[k])\n",
    "    ske_kur_fraud[\"Kurtosis\"][k] = kurtosis(df_train_fraud[k])\n",
    "    print(k, ': Skewness: ' , skew(df_train_fraud[k]), '  Kurtosis: ', kurtosis(df_train_fraud[k]))"
   ]
  },
  {
   "cell_type": "code",
   "execution_count": null,
   "metadata": {},
   "outputs": [],
   "source": [
    "# Skewness and Kurtosis of the features (Noraml Data)\n",
    "from scipy.stats import kurtosis\n",
    "from scipy.stats import skew\n",
    "\n",
    "ske_kur_normal = pd.DataFrame(index = df_train_normal.columns, columns = [\"Skewness\", \"Kurtosis\"])\n",
    "for k in df_train_normal.columns:\n",
    "    ske_kur_normal[\"Skewness\"][k] = skew(df_train_normal[k])\n",
    "    ske_kur_normal[\"Kurtosis\"][k] = kurtosis(df_train_normal[k])\n",
    "    print(k, ': Skewness: ' , skew(df_train_normal[k]), '  Kurtosis: ', kurtosis(df_train_normal[k]))"
   ]
  },
  {
   "cell_type": "markdown",
   "metadata": {},
   "source": [
    "**Skewness is the measure of asymmetry of the distribution. Positive skewness means long tail in positive side and negative with long tail in the negative side. Kurtosis is the measure of 'fat' tail. In this case we are interested in the extreme distributions. We sort out features with extreme Skewness and Kurtosis.**"
   ]
  },
  {
   "cell_type": "code",
   "execution_count": null,
   "metadata": {},
   "outputs": [],
   "source": [
    "#calculate the difference betweeen noraml set and fraud set\n",
    "ske_kur_difference = ske_kur_normal - ske_kur_fraud"
   ]
  },
  {
   "cell_type": "code",
   "execution_count": null,
   "metadata": {},
   "outputs": [],
   "source": [
    "print(\"Skewness difference less then -1 :\")\n",
    "print(ske_kur_difference[ske_kur_difference[\"Skewness\"]  < -1 ] )\n",
    "print(\"Skewness difference more then 1 :\")\n",
    "print(ske_kur_difference[ske_kur_difference[\"Skewness\"]  > 1 ] )\n",
    "print(\"Kurtosis difference more then 20 :\")\n",
    "print(ske_kur_difference[ske_kur_difference[\"Kurtosis\"]  > 20 ] )"
   ]
  },
  {
   "cell_type": "code",
   "execution_count": 29,
   "metadata": {},
   "outputs": [
    {
     "data": {
      "text/plain": [
       "<matplotlib.axes._subplots.AxesSubplot at 0x1a26e771d0>"
      ]
     },
     "execution_count": 29,
     "metadata": {},
     "output_type": "execute_result"
    },
    {
     "data": {
      "image/png": "[encoded data removed]",
      "text/plain": [
       "<Figure size 432x288 with 1 Axes>"
      ]
     },
     "metadata": {
      "needs_background": "light"
     },
     "output_type": "display_data"
    }
   ],
   "source": [
    "#V17 Distribution\n",
    "sns.distplot(df_train_fraud.V17, hist=False, color='b', label='V17 - Fraud')\n",
    "sns.distplot(df_train_normal.V17, hist=False, color='c' , label='V17 - Normal')"
   ]
  },
  {
   "cell_type": "code",
   "execution_count": 30,
   "metadata": {},
   "outputs": [
    {
     "data": {
      "text/plain": [
       "<matplotlib.axes._subplots.AxesSubplot at 0x1a320bd208>"
      ]
     },
     "execution_count": 30,
     "metadata": {},
     "output_type": "execute_result"
    },
    {
     "data": {
      "image/png": "[encoded data removed]",
      "text/plain": [
       "<Figure size 432x288 with 1 Axes>"
      ]
     },
     "metadata": {
      "needs_background": "light"
     },
     "output_type": "display_data"
    }
   ],
   "source": [
    "#V21 Distribution\n",
    "sns.distplot(df_train_fraud.V21, hist=False, color='b', label='V21 - Fraud')\n",
    "sns.distplot(df_train_normal.V21, hist=False, color='c' , label='V21 - Normal')"
   ]
  },
  {
   "cell_type": "markdown",
   "metadata": {},
   "source": [
    "---\n",
    "\n",
    "### 3. Normalisation and Transformation\n",
    "\n",
    "\n",
    "**Normalisation was being done by Principal Component Analysis(PCA). In our dataset, we are told that V1 to V28 were being applied PCA already. It is unnecessary to normalise V1 to V28 again. We need only to normalize the Amount and time in order to run the Neural Network more efficiently. For some of the models in our research will not need to normalize the data to have similar effectiveness like tree models including the random forest and XGBoost model.**"
   ]
  },
  {
   "cell_type": "markdown",
   "metadata": {},
   "source": [
    "**First of all, before transforming the data, we need to take a look at the distribution of Amount and Time.**"
   ]
  },
  {
   "cell_type": "code",
   "execution_count": 40,
   "metadata": {},
   "outputs": [
    {
     "data": {
      "text/plain": [
       "<matplotlib.axes._subplots.AxesSubplot at 0x1a2fc8ae10>"
      ]
     },
     "execution_count": 40,
     "metadata": {},
     "output_type": "execute_result"
    },
    {
     "data": {
      "image/png": "[encoded data removed]",
      "text/plain": [
       "<Figure size 432x288 with 1 Axes>"
      ]
     },
     "metadata": {
      "needs_background": "light"
     },
     "output_type": "display_data"
    }
   ],
   "source": [
    "#Time Distribution\n",
    "sns.distplot(df_train.Time, hist=False, color='b')"
   ]
  },
  {
   "cell_type": "markdown",
   "metadata": {},
   "source": [
    "**As mentioned above, we see the peroidic pattern in the time. Our assumption for the time in seconds also make sense. So now we are going to transform the time to 0 to 86400s. Here we need to transform the 2nd day time to this range by deducting 86400.**"
   ]
  },
  {
   "cell_type": "code",
   "execution_count": 41,
   "metadata": {},
   "outputs": [
    {
     "name": "stderr",
     "output_type": "stream",
     "text": [
      "/Users/matthewyeung/opt/anaconda3/envs/tensorflow/lib/python3.6/site-packages/pandas/core/indexing.py:205: SettingWithCopyWarning:\n",
      "\n",
      "\n",
      "A value is trying to be set on a copy of a slice from a DataFrame\n",
      "\n",
      "See the caveats in the documentation: http://pandas.pydata.org/pandas-docs/stable/user_guide/indexing.html#returning-a-view-versus-a-copy\n",
      "\n"
     ]
    }
   ],
   "source": [
    "df_train['Time_to_one_day'] = df_train['Time']\n",
    "for i in range(df_train.shape[0]):\n",
    "    if df_train['Time'].iloc[i] > 86400:\n",
    "        df_train['Time_to_one_day'].iloc[i] = df_train['Time'].iloc[i] - 86400\n",
    "    else:\n",
    "        df_train['Time_to_one_day'].iloc[i] = df_train['Time'].iloc[i]"
   ]
  },
  {
   "cell_type": "code",
   "execution_count": 42,
   "metadata": {},
   "outputs": [],
   "source": [
    "#transform the test set of data correspondingly\n",
    "df_test['Time_to_one_day'] = df_test['Time']\n",
    "for i in range(df_test.shape[0]):\n",
    "    if df_test['Time'].iloc[i] > 86400:\n",
    "        df_test['Time_to_one_day'].iloc[i] = df_test['Time'].iloc[i] - 86400\n",
    "    else:\n",
    "        df_test['Time_to_one_day'].iloc[i] = df_test['Time'].iloc[i]"
   ]
  },
  {
   "cell_type": "markdown",
   "metadata": {},
   "source": [
    "**We can seen that both Time and Amount are positively skew. That means they have a long tail in the positive side. Most of the Amount datapoint concentrate in 0 to 5000. There are some outliers at 17500to 20000. One method to transform the data in order to minimize the effect of the skewness is to use cube root for transformation.**"
   ]
  },
  {
   "cell_type": "code",
   "execution_count": 44,
   "metadata": {},
   "outputs": [],
   "source": [
    "f = lambda x: np.power(x, 1./3)\n",
    "df_train['Time_tran'] = f(df_train['Time_to_one_day'])\n",
    "df_train['Amount_tran'] = f(df_train['Amount'])\n",
    "df_test['Time_tran'] = f(df_test['Time_to_one_day'])\n",
    "df_test['Amount_tran'] = f(df_test['Amount'])"
   ]
  },
  {
   "cell_type": "code",
   "execution_count": 45,
   "metadata": {},
   "outputs": [
    {
     "data": {
      "text/plain": [
       "<matplotlib.axes._subplots.AxesSubplot at 0x1a31f04128>"
      ]
     },
     "execution_count": 45,
     "metadata": {},
     "output_type": "execute_result"
    },
    {
     "data": {
      "image/png": "[encoded data removed]",
      "text/plain": [
       "<Figure size 432x288 with 1 Axes>"
      ]
     },
     "metadata": {
      "needs_background": "light"
     },
     "output_type": "display_data"
    }
   ],
   "source": [
    "#Time and Amount Distribution after transformation\n",
    "sns.distplot(df_train.Time_tran, hist=False, color='b',label='Transformed \"Time\"')\n",
    "sns.distplot(df_train.Amount_tran, hist=False, color='c', label='Transformed \"Amount\"')"
   ]
  },
  {
   "cell_type": "markdown",
   "metadata": {},
   "source": [
    "**The Time and Amount data sqreeze and the range of the values decrease which can increase the efficiency of applying Neural Network by decreasing the computation power.**\n",
    "\n",
    "**Next, we need to transform our dataset.**"
   ]
  },
  {
   "cell_type": "code",
   "execution_count": null,
   "metadata": {},
   "outputs": [],
   "source": [
    "#Before transforming the dataset, we need to make the change on Normalizaion data:\n",
    "df_train = df_train[['Time_tran', 'V1', 'V2', 'V3', 'V4', 'V5', \n",
    "                    'V6', 'V7', 'V8', 'V9', 'V10','V11', 'V12', \n",
    "                    'V13', 'V14', 'V15', 'V16', 'V17', 'V18', 'V19', \n",
    "                    'V20','V21', 'V22', 'V23', 'V24', 'V25', 'V26', \n",
    "                    'V27', 'V28', 'Amount_tran', 'Class']]\n",
    "df_test = df_test[['Time_tran', 'V1', 'V2', 'V3', 'V4', 'V5', \n",
    "                    'V6', 'V7', 'V8', 'V9', 'V10','V11', 'V12', \n",
    "                    'V13', 'V14', 'V15', 'V16', 'V17', 'V18', 'V19', \n",
    "                    'V20','V21', 'V22', 'V23', 'V24', 'V25', 'V26', \n",
    "                    'V27', 'V28', 'Amount_tran', 'Class']]"
   ]
  },
  {
   "cell_type": "markdown",
   "metadata": {},
   "source": [
    "---\n",
    "\n",
    "### II. Imbalance Data Handling"
   ]
  },
  {
   "cell_type": "markdown",
   "metadata": {},
   "source": [
    "**The current dataset is severely imblanced and before training our models, the imbalance in the dataset will have to addressed first as this will reduce the ability of our models to make predictions regarding the minority class**"
   ]
  },
  {
   "cell_type": "code",
   "execution_count": null,
   "metadata": {},
   "outputs": [],
   "source": [
    "print('Not Fraud', round(\n",
    "        df_train['Class'].value_counts()[0]/len(df_train)*100, 2), '% of the dataset')\n",
    "print('Fraud', round(\n",
    "        df_train['Class'].value_counts()[1]/len(df_train)*100, 2), '% of the dataset')"
   ]
  },
  {
   "cell_type": "code",
   "execution_count": null,
   "metadata": {},
   "outputs": [],
   "source": [
    "sns.countplot(\"Class\",data=df_train)"
   ]
  },
  {
   "cell_type": "markdown",
   "metadata": {},
   "source": [
    "### 1. UnderSampling - Random undersampling"
   ]
  },
  {
   "cell_type": "markdown",
   "metadata": {},
   "source": [
    "**Random undersampling involves selecting random data points from the majority class to match the number of data points in the minority class. In our work we tried some different normal to fraud ratios. We found that 97.5 to 2.5 gives most of the model best result to classify the target group.**"
   ]
  },
  {
   "cell_type": "code",
   "execution_count": null,
   "metadata": {},
   "outputs": [],
   "source": [
    "from sklearn.utils import resample\n",
    "from sklearn.utils import shuffle\n",
    "def random_undersampling(df, ran_ratio):\n",
    "    X = df.loc[:, :'Amount_tran'] # Features\n",
    "    y = df.loc[:, 'Class':] # Targets\n",
    "    #seperate classses\n",
    "    fraud = df[df['Class']==1]\n",
    "    not_fraud = df[df['Class']==0]\n",
    "    notfraud_US = resample(not_fraud,\n",
    "                                replace = False, # sample without replacement\n",
    "                                n_samples = int(len(fraud)*(100/ran_ratio-1)),\n",
    "                                random_state = 27) # reproducible results\n",
    "\n",
    "    undersampled_data = pd.concat([notfraud_US, fraud])\n",
    "    undersampled_data = shuffle(undersampled_data)\n",
    "    return undersampled_data\n",
    "    "
   ]
  },
  {
   "cell_type": "code",
   "execution_count": null,
   "metadata": {},
   "outputs": [],
   "source": [
    "undersampled_data = random_undersampling(df_train,2.5) # match minority n for a 97.5:2.5 ratio\n",
    "undersampled_data.head()"
   ]
  },
  {
   "cell_type": "code",
   "execution_count": null,
   "metadata": {},
   "outputs": [],
   "source": [
    "sns.countplot(undersampled_data.loc[:,'Class'])"
   ]
  },
  {
   "cell_type": "markdown",
   "metadata": {},
   "source": [
    "**Using the function random_undersampling() we are able to balance the dataset classes to a 50/50 split**"
   ]
  },
  {
   "cell_type": "markdown",
   "metadata": {},
   "source": [
    "### 2. UnderSampling - N-groups stacking\n",
    "\n",
    "**The majority class is split into n groups such that each group has the same number of samples as the minority class. This allows us to overcome the imbalance by training our model n times. However, from the random undersampling, we found that the ratio between normal to fraud is 97.5 to 2.5. So our N-group stacking will also use the same ratio.** "
   ]
  },
  {
   "cell_type": "code",
   "execution_count": null,
   "metadata": {},
   "outputs": [],
   "source": [
    "from sklearn.utils import shuffle\n",
    "\n",
    "fraud = df_train[df_train['Class']==1]\n",
    "not_fraud = df_train[df_train['Class']==0]\n",
    "fraud_size = fraud.shape[0]\n",
    "not_fraud_size = not_fraud.shape[0]\n",
    "ratio = 2.5                          # each group match minority n for a 97.5:2.5 ratio\n",
    "group_num = int((not_fraud_size/fraud_size)/(100/ratio -1))\n",
    "data_size = int(fraud_size*(100/ratio -1))\n",
    "\n",
    "#separate the non-fraud group\n",
    "for k in range(group_num):\n",
    "    exec(f'not_fraud_{k} = not_fraud.iloc[k*data_size:k*data_size + data_size,:]')\n",
    "\n",
    "#creating dataset for all groups\n",
    "for k in range(group_num):\n",
    "    exec(f'n_group_stacking_{k} = shuffle(pd.concat([fraud,not_fraud_{k}]))')\n"
   ]
  },
  {
   "cell_type": "code",
   "execution_count": null,
   "metadata": {},
   "outputs": [],
   "source": [
    "#we take a random look at a group 4. It will be the same as in random UnderSampling.\n",
    "n_group_stacking_4.head()"
   ]
  },
  {
   "cell_type": "code",
   "execution_count": null,
   "metadata": {},
   "outputs": [],
   "source": [
    "sns.countplot(n_group_stacking_4.loc[:,'Class'])"
   ]
  },
  {
   "cell_type": "markdown",
   "metadata": {},
   "source": [
    "### 3. UnderSampling - K-Means Undersampling\n",
    "\n",
    "**Similar to the n-groups stacking however now after you have your n groups you use K-means to find the centre point of the group**"
   ]
  },
  {
   "cell_type": "code",
   "execution_count": null,
   "metadata": {},
   "outputs": [],
   "source": [
    "from sklearn.utils import shuffle\n",
    "from sklearn.cluster import KMeans\n",
    "def kmeans_US(df, fraud_ratio):\n",
    "    fraud = shuffle(df[df['Class']==1])\n",
    "    not_fraud = shuffle(df[df['Class']==0])\n",
    "    fraud_size = fraud.shape[0]\n",
    "    cluster_num = int(fraud_size*(100/fraud_ratio -1))     \n",
    "    nf_kmeans = KMeans(n_clusters=cluster_num, random_state=0, max_iter = 10).fit(not_fraud)\n",
    "    nf_centres = nf_kmeans.cluster_centers_\n",
    "    df_kmeans = shuffle(np.concatenate([fraud,nf_centres],axis=0))\n",
    "    df_kmeans = pd.DataFrame(df_kmeans, columns = df.columns)\n",
    "    \n",
    "    return df_kmeans"
   ]
  },
  {
   "cell_type": "markdown",
   "metadata": {},
   "source": [
    "**Be careful! The running time is relatively long even with 20 iteration (around 1 hour)**"
   ]
  },
  {
   "cell_type": "code",
   "execution_count": null,
   "metadata": {},
   "outputs": [],
   "source": [
    "k_mean_train = kmeans_US(df_train,20)  # 80:20 ratio split"
   ]
  },
  {
   "cell_type": "code",
   "execution_count": null,
   "metadata": {},
   "outputs": [],
   "source": [
    "k_mean_train.shape"
   ]
  },
  {
   "cell_type": "code",
   "execution_count": null,
   "metadata": {},
   "outputs": [],
   "source": [
    "sns.countplot(k_mean_train.loc[:,'Class'])"
   ]
  },
  {
   "cell_type": "markdown",
   "metadata": {},
   "source": [
    "### 4. OverSampling - SMOTE ( Synthetic Minority Oversampling Technique )\n",
    "\n",
    "**SMOTE generates new synthetic data using the k-Nearest Neighbour algorithm for the minority class**"
   ]
  },
  {
   "cell_type": "code",
   "execution_count": null,
   "metadata": {
    "scrolled": true
   },
   "outputs": [],
   "source": [
    "from imblearn.over_sampling import SMOTE\n",
    "\n",
    "def smote(df, smote_ratio):\n",
    "    x = df.loc[:, :'Amount_tran'] # Features\n",
    "    y = df.loc[:, 'Class':] # Targets\n",
    "    sm = SMOTE(ratio = (smote_ratio/100), random_state=42)\n",
    "    x_train, y_train = sm.fit_sample(x, np.ravel(y))\n",
    "    return x_train, y_train"
   ]
  },
  {
   "cell_type": "code",
   "execution_count": null,
   "metadata": {},
   "outputs": [],
   "source": [
    "xt, yt = smote(df_train,20)  # 80:20 ratio split"
   ]
  },
  {
   "cell_type": "code",
   "execution_count": null,
   "metadata": {},
   "outputs": [],
   "source": [
    "xt.shape, yt.shape"
   ]
  },
  {
   "cell_type": "code",
   "execution_count": null,
   "metadata": {},
   "outputs": [],
   "source": [
    "sns.countplot(yt)"
   ]
  },
  {
   "cell_type": "markdown",
   "metadata": {},
   "source": [
    "### 5. OverSampling - ADASYN ( Adaptive Synthetic Sampling Approach )\n",
    "\n",
    "**ADASYN generates new synthetic data using a weighted distribution for different minority class examples according to their level of difficulty in learning**"
   ]
  },
  {
   "cell_type": "code",
   "execution_count": null,
   "metadata": {},
   "outputs": [],
   "source": [
    "from imblearn.over_sampling import ADASYN\n",
    "\n",
    "def adasyn(df, ada_ratio):\n",
    "    x = df.loc[:, :'Amount_tran'] # Features\n",
    "    y = df.loc[:, 'Class':] # Targets\n",
    "    ada = ADASYN(ratio = (ada_ratio/100), random_state=42)\n",
    "    x_train, y_train = ada.fit_sample(x, np.ravel(y))\n",
    "    return x_train, y_train"
   ]
  },
  {
   "cell_type": "code",
   "execution_count": null,
   "metadata": {},
   "outputs": [],
   "source": [
    "xada, yada = adasyn(df_train, 20)  # 80:20 ratio split"
   ]
  },
  {
   "cell_type": "code",
   "execution_count": null,
   "metadata": {},
   "outputs": [],
   "source": [
    "xada.shape, yada.shape"
   ]
  },
  {
   "cell_type": "code",
   "execution_count": null,
   "metadata": {},
   "outputs": [],
   "source": [
    "sns.countplot(yada)"
   ]
  },
  {
   "cell_type": "markdown",
   "metadata": {},
   "source": [
    "**Before modeling, we need to define all the training set corresponding to the above undersampling and oversampling techniques. Remarks: the test set will not be changed throughout the experiments**"
   ]
  },
  {
   "cell_type": "code",
   "execution_count": null,
   "metadata": {},
   "outputs": [],
   "source": [
    "#use Standard score to standardize the features\n",
    "from sklearn.preprocessing import StandardScaler\n",
    "scaler = StandardScaler()\n",
    "\n",
    "#define the training set and test set for non undersampling and oversampling\n",
    "X_train = df_train.loc[:, :'Amount_tran']\n",
    "X_train = scaler.fit_transform(X_train)\n",
    "y_train = np.ravel(df_train.loc[:, 'Class':])\n",
    "X_test = df_test.loc[:, :'Amount_tran']\n",
    "X_test = scaler.fit_transform(X_test)\n",
    "y_test = np.ravel(df_test.loc[:, 'Class':])"
   ]
  },
  {
   "cell_type": "code",
   "execution_count": null,
   "metadata": {},
   "outputs": [],
   "source": [
    "#define the training set for UnderSampling - Random UnderSampling\n",
    "X_train_ran = undersampled_data.loc[:, :'Amount_tran']\n",
    "X_train_ran = scaler.fit_transform(X_train_ran)\n",
    "y_train_ran = np.ravel(undersampled_data.loc[:, 'Class':])"
   ]
  },
  {
   "cell_type": "code",
   "execution_count": null,
   "metadata": {},
   "outputs": [],
   "source": [
    "#define the training set for UnderSampling - N-group Stacking\n",
    "for k in range(group_num):\n",
    "    exec(f'dataset_train_{k} = n_group_stacking_{k}.values')\n",
    "    exec(f'X_train_ngroup_{k} = dataset_train_{k}[:,:-1]')\n",
    "    exec(f'y_train_ngroup_{k} = dataset_train_{k}[:,-1:]')\n",
    "\n",
    "#Standardize the feathures\n",
    "for k in range(group_num):\n",
    "    X_train_stand = locals()[\"X_train_ngroup_\" + str(k)]\n",
    "    exec(f'X_train_ngroup_{k} = scaler.fit_transform(X_train_stand)')"
   ]
  },
  {
   "cell_type": "code",
   "execution_count": null,
   "metadata": {},
   "outputs": [],
   "source": [
    "#define the training set for UnderSampling - KMean Stacking\n",
    "X_train_kmean = k_mean_train.loc[:, :'Amount_tran']\n",
    "X_train_kmean = scaler.fit_transform(X_train_kmean)\n",
    "y_train_kmean = np.ravel(k_mean_train.loc[:, 'Class':])"
   ]
  },
  {
   "cell_type": "code",
   "execution_count": null,
   "metadata": {},
   "outputs": [],
   "source": [
    "#define the training set for OverSampling - SMOTE\n",
    "X_train_smote = xt\n",
    "X_train_smote = scaler.fit_transform(X_train_smote)\n",
    "y_train_smote = yt.reshape(-1,1)"
   ]
  },
  {
   "cell_type": "code",
   "execution_count": null,
   "metadata": {},
   "outputs": [],
   "source": [
    "#define the training set for OverSampling - ADASYN\n",
    "X_train_ada = xada\n",
    "X_train_ada = scaler.fit_transform(X_train_ada)\n",
    "y_train_ada = yada.reshape(-1,1)"
   ]
  },
  {
   "cell_type": "markdown",
   "metadata": {},
   "source": [
    "---"
   ]
  },
  {
   "cell_type": "markdown",
   "metadata": {},
   "source": [
    "### III Modelling\n",
    "\n",
    "####  Logistic Regression\n",
    "\n",
    "**Logistic Regression is the most commonly use binary classifier. Logistic Sigmoid function is used in the model. In the credit card fraudulent transaction classification, we encountered this binary classification problem. We tried to use the this algorithm as it was easy to apply and low computation power needed.**\n",
    "\n",
    "**First, we try to use the data without undersampling or oversampling.**"
   ]
  },
  {
   "cell_type": "code",
   "execution_count": null,
   "metadata": {},
   "outputs": [],
   "source": [
    "# define the matrix of the scores\n",
    "from sklearn.metrics import confusion_matrix, accuracy_score, precision_score, recall_score, fbeta_score \n",
    "from sklearn.linear_model import LogisticRegression\n",
    "def scores(y_true, y_predict):\n",
    "    recall = recall_score(y_true, y_predict)\n",
    "    precision = precision_score(y_true, y_predict)\n",
    "    fbeta = fbeta_score(y_true, y_predict, 0.8)\n",
    "    accuracy = accuracy_score(y_true,y_predict)\n",
    "    print('Accuracy: ', accuracy*100,'%')\n",
    "    print('Precision: ', precision*100,'%')\n",
    "    print('Recall: ', recall*100,'%')\n",
    "    print('F-beta Score:',fbeta*100,'%')\n",
    "    print('Confusion Matrix:')\n",
    "    print(confusion_matrix(y_true, y_predict))"
   ]
  },
  {
   "cell_type": "code",
   "execution_count": null,
   "metadata": {},
   "outputs": [],
   "source": [
    "#training the model with LogisticRegression function\n",
    "from sklearn.linear_model import LogisticRegression\n",
    "clf_full = LogisticRegression(penalty='l2',random_state=7, class_weight = None, solver='sag',multi_class='ovr').fit(X_train, y_train)"
   ]
  },
  {
   "cell_type": "code",
   "execution_count": null,
   "metadata": {},
   "outputs": [],
   "source": [
    "#Training error\n",
    "train_values_clf = clf_full.predict(X_train)\n",
    "print('Training Set score for Logistic regression (Full Dataset)')\n",
    "scores(y_train, train_values_clf)"
   ]
  },
  {
   "cell_type": "code",
   "execution_count": null,
   "metadata": {},
   "outputs": [],
   "source": [
    "#Test error\n",
    "test_values_clf = clf_full.predict(X_test)\n",
    "print('Test Set score for Logistic regression (Full Dataset)')\n",
    "scores(y_test, test_values_clf)"
   ]
  },
  {
   "cell_type": "markdown",
   "metadata": {},
   "source": [
    "#### i. UnderSampling - Random UnderSampling"
   ]
  },
  {
   "cell_type": "code",
   "execution_count": null,
   "metadata": {},
   "outputs": [],
   "source": [
    "#Train the Logistic model\n",
    "from sklearn.linear_model import LogisticRegression\n",
    "clf_ran = LogisticRegression(penalty='l2',random_state=7, class_weight = None, solver='sag',multi_class='ovr').fit(X_train_ran, y_train_ran)"
   ]
  },
  {
   "cell_type": "code",
   "execution_count": null,
   "metadata": {},
   "outputs": [],
   "source": [
    "#Training error\n",
    "train_values_ran_clf = clf_ran.predict(X_train_ran)\n",
    "print('Training Set score for Logistic regression (Random UnderSampling)')\n",
    "scores(y_train_ran, train_values_ran_clf)"
   ]
  },
  {
   "cell_type": "code",
   "execution_count": null,
   "metadata": {},
   "outputs": [],
   "source": [
    "#Test error\n",
    "test_values_ran_clf = clf_ran.predict(X_test)\n",
    "print('Test Set score for Logistic regression (Random UnderSampling)')\n",
    "scores(y_test, test_values_ran_clf)"
   ]
  },
  {
   "cell_type": "markdown",
   "metadata": {},
   "source": [
    "#### ii. UnderSampling - N-groups Undersampling"
   ]
  },
  {
   "cell_type": "code",
   "execution_count": null,
   "metadata": {},
   "outputs": [],
   "source": [
    "#Train the Logistic model\n",
    "from sklearn.linear_model import LogisticRegression\n",
    "for k in range(group_num):\n",
    "    X_train_c = locals()[\"X_train_ngroup_\" + str(k)]\n",
    "    y_train_c = locals()[\"y_train_ngroup_\" + str(k)]\n",
    "    clf = LogisticRegression(penalty='l2',random_state=42, class_weight = 'dict' ,solver='sag',multi_class='ovr').fit(X_train_c, np.ravel(y_train_c))\n",
    "    predict_values_clf = clf.predict(X_test)\n",
    "    locals()[\"predict_values_ngroup_clf_\" + str(k)] = predict_values_clf"
   ]
  },
  {
   "cell_type": "code",
   "execution_count": null,
   "metadata": {},
   "outputs": [],
   "source": [
    "test_values_ngroup_clf = np.zeros((predict_values_ngroup_clf_0.shape[0],))\n",
    "\n",
    "for k in range(group_num):\n",
    "    test_values_ngroup_clf += locals()[\"predict_values_ngroup_clf_\" + str(k)]\n",
    "\n",
    "test_values_ngroup_clf = np.round(test_values_ngroup_clf/group_num)"
   ]
  },
  {
   "cell_type": "code",
   "execution_count": null,
   "metadata": {},
   "outputs": [],
   "source": [
    "print('Test Set score for Logistic regression (N-group UnderSampling)')\n",
    "scores(y_test, test_values_ngroup_clf)"
   ]
  },
  {
   "cell_type": "markdown",
   "metadata": {},
   "source": [
    "**We can see that the score is not so good. This may due to over fitting. Now we try not to involve all the n groups in the voting for the test set.**"
   ]
  },
  {
   "cell_type": "code",
   "execution_count": null,
   "metadata": {},
   "outputs": [],
   "source": [
    "#Train the Logistic model\n",
    "from sklearn.linear_model import LogisticRegression\n",
    "train_ratio = 0.5\n",
    "for k in range(int(group_num*train_ratio)):\n",
    "    X_train = locals()[\"X_train_ngroup_\" + str(k)]\n",
    "    y_train = locals()[\"y_train_ngroup_\" + str(k)]\n",
    "    clf = LogisticRegression(penalty='l2',random_state=42, class_weight = 'dict' ,solver='sag',multi_class='ovr').fit(X_train, np.ravel(y_train))\n",
    "    predict_values_clf = clf.predict(X_test)\n",
    "    locals()[\"predict_values_ngroup_clf_\" + str(k)] = predict_values_clf"
   ]
  },
  {
   "cell_type": "code",
   "execution_count": null,
   "metadata": {},
   "outputs": [],
   "source": [
    "test_values_ngroup_clf = np.zeros((predict_values_ngroup_clf_0.shape[0],))\n",
    "\n",
    "for k in range(int(group_num*train_ratio)):\n",
    "    test_values_ngroup_clf += locals()[\"predict_values_ngroup_clf_\" + str(k)]\n",
    "\n",
    "test_values_ngroup_clf = np.round(test_values_ngroup_clf/int(group_num*train_ratio))"
   ]
  },
  {
   "cell_type": "code",
   "execution_count": null,
   "metadata": {},
   "outputs": [],
   "source": [
    "print('Test Set score for Logistic regression (N-group UnderSampling) with train ratio')\n",
    "scores(y_test, test_values_ngroup_clf)"
   ]
  },
  {
   "cell_type": "markdown",
   "metadata": {},
   "source": [
    "#### iii. UnderSampling - K-means Undersampling"
   ]
  },
  {
   "cell_type": "code",
   "execution_count": null,
   "metadata": {},
   "outputs": [],
   "source": [
    "#Train the Logistic model\n",
    "from sklearn.linear_model import LogisticRegression\n",
    "clf_kmean = LogisticRegression(penalty='l2',random_state=7, class_weight = None, solver='sag',multi_class='ovr').fit(X_train_kmean, y_train_kmean)"
   ]
  },
  {
   "cell_type": "code",
   "execution_count": null,
   "metadata": {},
   "outputs": [],
   "source": [
    "#Training error\n",
    "train_values_kmean_clf = clf_kmean.predict(X_train_kmean)\n",
    "print('Training Set score for Logistic regression (KMean UnderSampling)')\n",
    "scores(y_train_kmean, train_values_kmean_clf)"
   ]
  },
  {
   "cell_type": "code",
   "execution_count": null,
   "metadata": {},
   "outputs": [],
   "source": [
    "#Test error\n",
    "test_values_kmean_clf = clf_kmean.predict(X_test)\n",
    "print('Test Set score for Logistic regression (KMean UnderSampling)')\n",
    "scores(y_test, test_values_kmean_clf)"
   ]
  },
  {
   "cell_type": "markdown",
   "metadata": {},
   "source": [
    "#### iv. OverSampling - SMOTE"
   ]
  },
  {
   "cell_type": "code",
   "execution_count": null,
   "metadata": {},
   "outputs": [],
   "source": [
    "#Train the Logistic model\n",
    "clf_smote = LogisticRegression(penalty='l2',random_state=7, class_weight = None, solver='sag',multi_class='ovr').fit(X_train_smote, y_train_smote)"
   ]
  },
  {
   "cell_type": "code",
   "execution_count": null,
   "metadata": {},
   "outputs": [],
   "source": [
    "#Training error\n",
    "train_values_smote_clf = clf_smote.predict(X_train_smote)\n",
    "print('Training Set score for Logistic regression (SMOTE)')\n",
    "scores(y_train_smote, train_values_smote_clf)"
   ]
  },
  {
   "cell_type": "code",
   "execution_count": null,
   "metadata": {},
   "outputs": [],
   "source": [
    "#Test error\n",
    "test_values_smote_clf = clf_smote.predict(X_test)\n",
    "print('Test Set score for Logistic regression (SMOTE)')\n",
    "scores(y_test, test_values_smote_clf)"
   ]
  },
  {
   "cell_type": "markdown",
   "metadata": {},
   "source": [
    "#### v. OverSampling - ADASYN "
   ]
  },
  {
   "cell_type": "code",
   "execution_count": null,
   "metadata": {},
   "outputs": [],
   "source": [
    "#Train the Logistic model\n",
    "clf_ada = LogisticRegression(penalty='l2',random_state=7, class_weight = None, solver='sag',multi_class='ovr').fit(X_train_ada, y_train_ada)"
   ]
  },
  {
   "cell_type": "code",
   "execution_count": null,
   "metadata": {},
   "outputs": [],
   "source": [
    "#Training error\n",
    "train_values_ada_clf = clf_ada.predict(X_train_ada)\n",
    "print('Training Set score for Logistic regression (ADASYN)')\n",
    "scores(y_train_ada, train_values_ada_clf)"
   ]
  },
  {
   "cell_type": "code",
   "execution_count": null,
   "metadata": {},
   "outputs": [],
   "source": [
    "#Test error\n",
    "test_values_ada_clf = clf_ada.predict(X_test)\n",
    "print('Test Set score for Logistic regression (ADASYN)')\n",
    "scores(y_test, test_values_ada_clf)"
   ]
  }
 ],
 "metadata": {
  "kernelspec": {
   "display_name": "Python 3",
   "language": "python",
   "name": "python3"
  },
  "language_info": {
   "codemirror_mode": {
    "name": "ipython",
    "version": 3
   },
   "file_extension": ".py",
   "mimetype": "text/x-python",
   "name": "python",
   "nbconvert_exporter": "python",
   "pygments_lexer": "ipython3",
   "version": "3.7.4"
  }
 },
 "nbformat": 4,
 "nbformat_minor": 2
}
